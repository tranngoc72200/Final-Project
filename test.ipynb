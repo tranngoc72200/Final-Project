{
 "cells": [
  {
   "cell_type": "code",
   "execution_count": 1,
   "metadata": {},
   "outputs": [],
   "source": [
    "import pandas as pd\n",
    "from datetime import datetime, timezone, timedelta\n",
    "import calendar\n",
    "\n",
    "def get_klines_iter(symbol, interval, start, end = None, limit=1000):\n",
    "    # start and end must be isoformat YYYY-MM-DD\n",
    "    # We are using utc time zone\n",
    "\n",
    "    df = pd.DataFrame()\n",
    "\n",
    "    if start is None:\n",
    "        print('start time must not be None')\n",
    "        return\n",
    "    start = calendar.timegm(datetime.fromisoformat(start).timetuple()) * 1000\n",
    "\n",
    "    if end is None:\n",
    "        dt = datetime.now(timezone.utc)\n",
    "        utc_time = dt.replace(tzinfo=timezone.utc)\n",
    "        end = int(utc_time.timestamp()) * 1000\n",
    "        return\n",
    "    else:\n",
    "        end = calendar.timegm(datetime.fromisoformat(end).timetuple()) * 1000\n",
    "    last_time = None\n",
    "\n",
    "    while len(df) == 0 or (last_time is not None and last_time < end):\n",
    "        url = 'https://api.binance.com/api/v3/klines?symbol=' + \\\n",
    "              symbol + '&interval=' + interval + '&limit=1000'\n",
    "        if(len(df) == 0):\n",
    "            url += '&startTime=' + str(start)\n",
    "        else:\n",
    "            url += '&startTime=' + str(last_time)\n",
    "\n",
    "        url += '&endTime=' + str(end)\n",
    "        df2 = pd.read_json(url)\n",
    "        df2.columns = ['Opentime', 'Open', 'High', 'Low', 'Close', 'Volume', 'Closetime',\n",
    "                       'Quote asset volume', 'Number of trades', 'Taker by base', 'Taker buy quote', 'Ignore']\n",
    "        dftmp = pd.DataFrame()\n",
    "        dftmp = pd.concat([df2, dftmp], axis=0, ignore_index=True, keys=None)\n",
    "\n",
    "        dftmp.Opentime = pd.to_datetime(dftmp.Opentime, unit='ms')\n",
    "        dftmp['Date'] = dftmp.Opentime.dt.strftime(\"%d/%m/%Y\")\n",
    "        dftmp['Time'] = dftmp.Opentime.dt.strftime(\"%H:%M:%S\")\n",
    "        dftmp = dftmp.drop(['Quote asset volume', 'Closetime', 'Opentime',\n",
    "                      'Number of trades', 'Taker by base', 'Taker buy quote', 'Ignore'], axis=1)\n",
    "        column_names = [\"Date\", \"Time\", \"Open\", \"High\", \"Low\", \"Close\", \"Volume\"]\n",
    "        dftmp.reset_index(drop=True, inplace=True)\n",
    "        dftmp = dftmp.reindex(columns=column_names)\n",
    "        string_dt = str(dftmp['Date'][len(dftmp) - 1]) + 'T' + str(dftmp['Time'][len(dftmp) - 1]) + '.000Z'\n",
    "        utc_last_time = datetime.strptime(string_dt, \"%d/%m/%YT%H:%M:%S.%fZ\")\n",
    "        last_time = (utc_last_time - datetime(1970, 1, 1)) // timedelta(milliseconds=1)\n",
    "        df = pd.concat([df, dftmp], axis=0, ignore_index=True, keys=None)\n",
    "        # Drop the 'Time' column\n",
    "        df = df.drop(columns=['Time'])\n",
    "        df['Date'] = pd.to_datetime(df['Date'], format='%d/%m/%Y')\n",
    "        df = df.set_index('Date')\n",
    "        df.to_csv('0y_eth_only17andnew.csv', index=True, header=True)\n",
    "    return df"
   ]
  },
  {
   "cell_type": "code",
   "execution_count": 2,
   "metadata": {},
   "outputs": [],
   "source": [
    "from statsmodels.tsa.arima.model import ARIMA\n",
    "from sklearn.metrics import mean_squared_error\n",
    "from math import sqrt\n",
    "from sklearn.preprocessing import MinMaxScaler\n",
    "from get_data import *\n",
    "import plotly.graph_objects as go\n",
    "from plotly.subplots import make_subplots\n",
    "import matplotlib.pyplot as plt\n",
    "import pandas as pd\n",
    "import tensorflow as tf\n",
    "from tensorflow.keras.models import Sequential\n",
    "from tensorflow.keras.layers import Dense, LSTM\n",
    "import numpy as np\n",
    "import random"
   ]
  },
  {
   "cell_type": "code",
   "execution_count": 3,
   "metadata": {},
   "outputs": [],
   "source": [
    "# Lấy dữ liệu\n",
    "df = get_klines_iter(\"BTCBUSD\", '1d', '2021-04-27', '2023-04-27')\n",
    "\n",
    "# Chia dữ liệu thành tập huấn luyện và tập kiểm tra\n",
    "train_size = int(len(df) * 0.8)\n",
    "train, test = df[:train_size], df[train_size:]\n",
    "\n",
    "# Chuẩn hóa dữ liệu\n",
    "scaler = MinMaxScaler(feature_range=(0, 1))\n",
    "train_scaled = scaler.fit_transform(train)\n",
    "test_scaled = scaler.transform(test)\n",
    "\n",
    "# Hàm chuẩn bị dữ liệu cho mô hình LSTM\n",
    "def create_dataset(dataset, look_back=1):\n",
    "   dataX, dataY = [], []\n",
    "   for i in range(len(dataset) - look_back):\n",
    "      dataX.append(dataset[i:(i + look_back)])\n",
    "      dataY.append(dataset[i + look_back, 3]) # Lấy giá trị Close\n",
    "   return np.array(dataX), np.array(dataY)\n",
    "\n",
    "def create_dataset_for_test(dataset, look_back=1):\n",
    "   dataX = []\n",
    "   dataX.append(dataset[len(dataset) - look_back:len(dataset)])\n",
    "   return np.array(dataX)\n",
    "\n",
    "look_back = 50\n",
    "time_line = test[look_back:]\n",
    "# Chuẩn bị dữ liệu cho LSTM\n",
    "\n",
    "trainX, trainY = create_dataset(train_scaled, look_back)\n",
    "testX, testY = create_dataset(test_scaled, look_back)\n",
    "test_1 = create_dataset_for_test(test_scaled, look_back)\n",
    "\n",
    "# Reshape dữ liệu để phù hợp với đầu vào của LSTM\n",
    "trainX = np.reshape(trainX, (trainX.shape[0], trainX.shape[1], trainX.shape[2]))\n",
    "testX = np.reshape(testX, (testX.shape[0], testX.shape[1], testX.shape[2]))\n",
    "test_1 = np.reshape(test_1, (test_1.shape[0], test_1.shape[1], test_1.shape[2]))"
   ]
  },
  {
   "cell_type": "code",
   "execution_count": 4,
   "metadata": {},
   "outputs": [],
   "source": [
    "a = test.values"
   ]
  },
  {
   "cell_type": "code",
   "execution_count": 5,
   "metadata": {},
   "outputs": [
    {
     "data": {
      "text/plain": [
       "29103.4"
      ]
     },
     "execution_count": 5,
     "metadata": {},
     "output_type": "execute_result"
    }
   ],
   "source": [
    "a[-1][3]"
   ]
  },
  {
   "cell_type": "code",
   "execution_count": 6,
   "metadata": {},
   "outputs": [
    {
     "data": {
      "text/html": [
       "<div>\n",
       "<style scoped>\n",
       "    .dataframe tbody tr th:only-of-type {\n",
       "        vertical-align: middle;\n",
       "    }\n",
       "\n",
       "    .dataframe tbody tr th {\n",
       "        vertical-align: top;\n",
       "    }\n",
       "\n",
       "    .dataframe thead th {\n",
       "        text-align: right;\n",
       "    }\n",
       "</style>\n",
       "<table border=\"1\" class=\"dataframe\">\n",
       "  <thead>\n",
       "    <tr style=\"text-align: right;\">\n",
       "      <th></th>\n",
       "      <th>Open</th>\n",
       "      <th>High</th>\n",
       "      <th>Low</th>\n",
       "      <th>Close</th>\n",
       "      <th>Volume</th>\n",
       "    </tr>\n",
       "    <tr>\n",
       "      <th>Date</th>\n",
       "      <th></th>\n",
       "      <th></th>\n",
       "      <th></th>\n",
       "      <th></th>\n",
       "      <th></th>\n",
       "    </tr>\n",
       "  </thead>\n",
       "  <tbody>\n",
       "    <tr>\n",
       "      <th>2022-12-02</th>\n",
       "      <td>16978.38</td>\n",
       "      <td>17106.55</td>\n",
       "      <td>16784.94</td>\n",
       "      <td>17093.88</td>\n",
       "      <td>129245.20465</td>\n",
       "    </tr>\n",
       "    <tr>\n",
       "      <th>2022-12-03</th>\n",
       "      <td>17093.53</td>\n",
       "      <td>17159.48</td>\n",
       "      <td>16861.53</td>\n",
       "      <td>16886.96</td>\n",
       "      <td>90065.33051</td>\n",
       "    </tr>\n",
       "    <tr>\n",
       "      <th>2022-12-04</th>\n",
       "      <td>16886.81</td>\n",
       "      <td>17208.60</td>\n",
       "      <td>16881.01</td>\n",
       "      <td>17109.11</td>\n",
       "      <td>102741.43485</td>\n",
       "    </tr>\n",
       "    <tr>\n",
       "      <th>2022-12-05</th>\n",
       "      <td>17108.73</td>\n",
       "      <td>17429.88</td>\n",
       "      <td>16869.24</td>\n",
       "      <td>16966.35</td>\n",
       "      <td>138198.94709</td>\n",
       "    </tr>\n",
       "    <tr>\n",
       "      <th>2022-12-06</th>\n",
       "      <td>16967.29</td>\n",
       "      <td>17106.31</td>\n",
       "      <td>16908.25</td>\n",
       "      <td>17089.12</td>\n",
       "      <td>135076.56100</td>\n",
       "    </tr>\n",
       "    <tr>\n",
       "      <th>...</th>\n",
       "      <td>...</td>\n",
       "      <td>...</td>\n",
       "      <td>...</td>\n",
       "      <td>...</td>\n",
       "      <td>...</td>\n",
       "    </tr>\n",
       "    <tr>\n",
       "      <th>2023-04-23</th>\n",
       "      <td>27823.86</td>\n",
       "      <td>27823.87</td>\n",
       "      <td>27335.00</td>\n",
       "      <td>27601.27</td>\n",
       "      <td>5902.23925</td>\n",
       "    </tr>\n",
       "    <tr>\n",
       "      <th>2023-04-24</th>\n",
       "      <td>27601.28</td>\n",
       "      <td>28022.74</td>\n",
       "      <td>26967.33</td>\n",
       "      <td>27516.67</td>\n",
       "      <td>11064.07423</td>\n",
       "    </tr>\n",
       "    <tr>\n",
       "      <th>2023-04-25</th>\n",
       "      <td>27516.66</td>\n",
       "      <td>28393.93</td>\n",
       "      <td>27203.38</td>\n",
       "      <td>28307.95</td>\n",
       "      <td>10406.20768</td>\n",
       "    </tr>\n",
       "    <tr>\n",
       "      <th>2023-04-26</th>\n",
       "      <td>28307.95</td>\n",
       "      <td>30035.64</td>\n",
       "      <td>27248.00</td>\n",
       "      <td>28424.86</td>\n",
       "      <td>27422.60027</td>\n",
       "    </tr>\n",
       "    <tr>\n",
       "      <th>2023-04-27</th>\n",
       "      <td>28424.87</td>\n",
       "      <td>29561.00</td>\n",
       "      <td>28390.68</td>\n",
       "      <td>29103.40</td>\n",
       "      <td>15380.73300</td>\n",
       "    </tr>\n",
       "  </tbody>\n",
       "</table>\n",
       "<p>147 rows × 5 columns</p>\n",
       "</div>"
      ],
      "text/plain": [
       "                Open      High       Low     Close        Volume\n",
       "Date                                                            \n",
       "2022-12-02  16978.38  17106.55  16784.94  17093.88  129245.20465\n",
       "2022-12-03  17093.53  17159.48  16861.53  16886.96   90065.33051\n",
       "2022-12-04  16886.81  17208.60  16881.01  17109.11  102741.43485\n",
       "2022-12-05  17108.73  17429.88  16869.24  16966.35  138198.94709\n",
       "2022-12-06  16967.29  17106.31  16908.25  17089.12  135076.56100\n",
       "...              ...       ...       ...       ...           ...\n",
       "2023-04-23  27823.86  27823.87  27335.00  27601.27    5902.23925\n",
       "2023-04-24  27601.28  28022.74  26967.33  27516.67   11064.07423\n",
       "2023-04-25  27516.66  28393.93  27203.38  28307.95   10406.20768\n",
       "2023-04-26  28307.95  30035.64  27248.00  28424.86   27422.60027\n",
       "2023-04-27  28424.87  29561.00  28390.68  29103.40   15380.73300\n",
       "\n",
       "[147 rows x 5 columns]"
      ]
     },
     "execution_count": 6,
     "metadata": {},
     "output_type": "execute_result"
    }
   ],
   "source": [
    "test"
   ]
  },
  {
   "cell_type": "code",
   "execution_count": 7,
   "metadata": {},
   "outputs": [
    {
     "data": {
      "text/plain": [
       "0.2575218616968402"
      ]
     },
     "execution_count": 7,
     "metadata": {},
     "output_type": "execute_result"
    }
   ],
   "source": [
    "testY[-1]"
   ]
  },
  {
   "cell_type": "code",
   "execution_count": 8,
   "metadata": {},
   "outputs": [
    {
     "data": {
      "text/plain": [
       "113013.31781400794"
      ]
     },
     "execution_count": 8,
     "metadata": {},
     "output_type": "execute_result"
    }
   ],
   "source": [
    "a[-1][3]/testY[-1]"
   ]
  },
  {
   "cell_type": "code",
   "execution_count": 9,
   "metadata": {},
   "outputs": [
    {
     "data": {
      "text/plain": [
       "array([15324.68673678, 15161.28105766, 15615.00394188, 14995.86852733,\n",
       "       15927.04749278, 15811.5008525 , 15957.54290586, 15845.87908642,\n",
       "       17412.09558098, 15415.73670403, 16067.50526448, 17390.56555758,\n",
       "       16862.15290627, 16733.82349627, 16506.85298617, 15655.79537426,\n",
       "       15271.22160269, 16318.05627641, 15708.80242275, 13173.5603664 ,\n",
       "       12797.95198451, 13314.3453421 , 13142.75956291, 13167.23442234,\n",
       "       14061.46114905, 18687.99487043, 16921.02781321, 19226.09276023,\n",
       "       19357.30156545, 18579.05775102, 19814.9290841 , 18962.60628338,\n",
       "       18375.97313313, 17849.13106104, 16196.68540488, 16135.23649311,\n",
       "       17002.06533797, 16865.07592869, 16103.10506001, 17174.61091557,\n",
       "       16812.2215754 , 14384.58600885, 14365.62999027, 14550.54387919,\n",
       "       14498.75839231, 14039.88749844, 12958.827286  , 10032.81639562,\n",
       "        9702.34035254, 10564.32657815, 13792.39039055, 18388.34144445,\n",
       "       19620.7662287 , 18779.30660088, 20246.00945131, 25432.9563755 ,\n",
       "       24465.41413851, 26807.56220587, 26235.65323576, 27034.61997038,\n",
       "       25200.09619333, 27452.80849986, 25580.93983927, 25598.04170183,\n",
       "       26692.8881096 , 24827.69441067, 25110.3114149 , 27470.56477043,\n",
       "       26790.15495291, 27731.78263286, 27730.86646165, 27113.38888071,\n",
       "       26297.34209713, 27086.81991566, 27099.64631258, 26799.01127459,\n",
       "       26537.55346256, 26605.30650479, 27443.51590618, 30310.19380401,\n",
       "       31541.85511226, 30850.99658024, 31896.10797955, 32092.95390778,\n",
       "       31728.07781719, 31738.43927728, 29846.4802909 , 31899.53271478,\n",
       "       28471.76539253, 27244.07415952, 25095.19458996, 26311.15010606,\n",
       "       25826.71367276, 25642.17061504, 27368.23717188, 27623.25997185,\n",
       "       29103.4       ])"
      ]
     },
     "execution_count": 9,
     "metadata": {},
     "output_type": "execute_result"
    }
   ],
   "source": [
    "testY * a[-1][3]/testY[-1]"
   ]
  }
 ],
 "metadata": {
  "kernelspec": {
   "display_name": "Python 3 (ipykernel)",
   "language": "python",
   "name": "python3"
  },
  "language_info": {
   "codemirror_mode": {
    "name": "ipython",
    "version": 3
   },
   "file_extension": ".py",
   "mimetype": "text/x-python",
   "name": "python",
   "nbconvert_exporter": "python",
   "pygments_lexer": "ipython3",
   "version": "3.11.1"
  },
  "orig_nbformat": 4,
  "vscode": {
   "interpreter": {
    "hash": "916dbcbb3f70747c44a77c7bcd40155683ae19c65e1c03b4aa3499c5328201f1"
   }
  }
 },
 "nbformat": 4,
 "nbformat_minor": 2
}
